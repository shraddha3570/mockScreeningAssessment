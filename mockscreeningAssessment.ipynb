{
 "cells": [
  {
   "cell_type": "markdown",
   "id": "d7c980d4",
   "metadata": {},
   "source": [
    "# Create a function in python to read the text file and replace specific content of the file."
   ]
  },
  {
   "cell_type": "code",
   "execution_count": null,
   "id": "d7a229cb",
   "metadata": {},
   "outputs": [],
   "source": [
    "def replace_content():\n",
    "    with open(\"s.txt\", \"wt\") as f:\n",
    "        f.write(\"This is placement assignment\")\n",
    "        f.close()\n",
    "        f = open('s.txt', \"rt\")\n",
    "        data = f.read()\n",
    "        data = data.replace(\"placement\", \"screening\")\n",
    "        f.close()\n",
    "        f = open('s.txt', \"wt\")\n",
    "        f.write(data)\n",
    "        f.close()\n",
    "        "
   ]
  },
  {
   "cell_type": "code",
   "execution_count": 14,
   "id": "e6b936ca",
   "metadata": {},
   "outputs": [],
   "source": [
    "replace_content()"
   ]
  },
  {
   "cell_type": "markdown",
   "id": "09c7de70",
   "metadata": {},
   "source": [
    "# Demonstrate use of abstract class, multiple inheritance and decorator in python using examples.\n",
    "\n",
    "1. Abstract Class"
   ]
  },
  {
   "cell_type": "code",
   "execution_count": 23,
   "id": "9915f9f8",
   "metadata": {},
   "outputs": [],
   "source": [
    "from abc import ABC, abstractmethod\n",
    "class Fruits(ABC):\n",
    " \n",
    "   def category(self):\n",
    "       pass\n",
    " \n",
    "class Sour(Fruits):\n",
    " \n",
    "    def category(self):\n",
    "        print(\"I am a sour fruit\")\n",
    "\n",
    "class Sweet(Fruits):\n",
    " \n",
    "    def category(self):\n",
    "        print(\"I am a sweet fruit\")"
   ]
  },
  {
   "cell_type": "code",
   "execution_count": 24,
   "id": "be22e2fb",
   "metadata": {},
   "outputs": [],
   "source": [
    "gooseberry = Sour()"
   ]
  },
  {
   "cell_type": "code",
   "execution_count": 25,
   "id": "d7b7f4c2",
   "metadata": {},
   "outputs": [
    {
     "name": "stdout",
     "output_type": "stream",
     "text": [
      "I am a sour fruit\n"
     ]
    }
   ],
   "source": [
    "gooseberry.category()"
   ]
  },
  {
   "cell_type": "code",
   "execution_count": 26,
   "id": "3a6caf78",
   "metadata": {},
   "outputs": [],
   "source": [
    "apple = Sweet()"
   ]
  },
  {
   "cell_type": "code",
   "execution_count": 27,
   "id": "5e3a3620",
   "metadata": {},
   "outputs": [
    {
     "name": "stdout",
     "output_type": "stream",
     "text": [
      "I am a sweet fruit\n"
     ]
    }
   ],
   "source": [
    "apple.category()"
   ]
  },
  {
   "cell_type": "code",
   "execution_count": null,
   "id": "a4b33b88",
   "metadata": {},
   "outputs": [],
   "source": []
  },
  {
   "cell_type": "markdown",
   "id": "63ff2129",
   "metadata": {},
   "source": [
    "# 2. Multiple Inheritance Class"
   ]
  },
  {
   "cell_type": "code",
   "execution_count": 36,
   "id": "6867b675",
   "metadata": {},
   "outputs": [
    {
     "name": "stdout",
     "output_type": "stream",
     "text": [
      "traits of mother:  Loving\n",
      "traits of father:  Honest\n",
      "Traits of child:  Loving Honest\n"
     ]
    }
   ],
   "source": [
    "class Parent1(object):\n",
    "    def __init__(self):\n",
    "        self.trait1 = \"Loving\"\n",
    "        print(\"traits of mother: \", self.trait1)\n",
    " \n",
    "class Parent2(object):\n",
    "    def __init__(self):\n",
    "        self.trait2 = \"Honest\"       \n",
    "        print(\"traits of father: \", self.trait2)\n",
    " \n",
    "class Derivedtrait(Parent1, Parent2):\n",
    "    def __init__(self):\n",
    "        Parent1.__init__(self)\n",
    "        Parent2.__init__(self)\n",
    "         \n",
    "    def traits(self):\n",
    "        print(\"Traits of child: \", self.trait1, self.trait2)\n",
    "        \n",
    " \n",
    "child = Derivedtrait()\n",
    "child.traits()"
   ]
  },
  {
   "cell_type": "markdown",
   "id": "0b7d0053",
   "metadata": {},
   "source": [
    "# 3. Decorator"
   ]
  },
  {
   "cell_type": "code",
   "execution_count": 43,
   "id": "96ca6d70",
   "metadata": {},
   "outputs": [
    {
     "name": "stdout",
     "output_type": "stream",
     "text": [
      "hello user\n",
      "have a good day\n"
     ]
    }
   ],
   "source": [
    "def wrapper(func):\n",
    "    def funcInsidewrapper():\n",
    "        print(\"hello user\")\n",
    "        func()\n",
    "    return funcInsidewrapper\n",
    "\n",
    "@wrapper\n",
    "def myactualfunc():\n",
    "    print(\"have a good day\")\n",
    "    \n",
    "myactualfunc()\n"
   ]
  },
  {
   "cell_type": "code",
   "execution_count": null,
   "id": "0293ce15",
   "metadata": {},
   "outputs": [],
   "source": []
  },
  {
   "cell_type": "code",
   "execution_count": null,
   "id": "b84b315a",
   "metadata": {},
   "outputs": [],
   "source": []
  },
  {
   "cell_type": "code",
   "execution_count": null,
   "id": "255e1ca4",
   "metadata": {},
   "outputs": [],
   "source": []
  },
  {
   "cell_type": "code",
   "execution_count": null,
   "id": "042e8c8d",
   "metadata": {},
   "outputs": [],
   "source": []
  },
  {
   "cell_type": "code",
   "execution_count": null,
   "id": "08ea26d6",
   "metadata": {},
   "outputs": [],
   "source": []
  },
  {
   "cell_type": "code",
   "execution_count": null,
   "id": "b552d648",
   "metadata": {},
   "outputs": [],
   "source": []
  },
  {
   "cell_type": "code",
   "execution_count": null,
   "id": "a0b9c9ed",
   "metadata": {},
   "outputs": [],
   "source": []
  },
  {
   "cell_type": "code",
   "execution_count": null,
   "id": "c6f897b4",
   "metadata": {},
   "outputs": [],
   "source": []
  },
  {
   "cell_type": "code",
   "execution_count": null,
   "id": "3c7343f9",
   "metadata": {},
   "outputs": [],
   "source": []
  },
  {
   "cell_type": "code",
   "execution_count": null,
   "id": "b28b4b26",
   "metadata": {},
   "outputs": [],
   "source": []
  },
  {
   "cell_type": "code",
   "execution_count": null,
   "id": "4a9f5e59",
   "metadata": {},
   "outputs": [],
   "source": []
  },
  {
   "cell_type": "code",
   "execution_count": null,
   "id": "86168c5d",
   "metadata": {},
   "outputs": [],
   "source": []
  },
  {
   "cell_type": "code",
   "execution_count": null,
   "id": "b2fd350d",
   "metadata": {},
   "outputs": [],
   "source": []
  },
  {
   "cell_type": "code",
   "execution_count": null,
   "id": "5b8470ac",
   "metadata": {},
   "outputs": [],
   "source": []
  },
  {
   "cell_type": "code",
   "execution_count": null,
   "id": "52c2e575",
   "metadata": {},
   "outputs": [],
   "source": []
  },
  {
   "cell_type": "code",
   "execution_count": 16,
   "id": "cc76df63",
   "metadata": {},
   "outputs": [],
   "source": []
  },
  {
   "cell_type": "code",
   "execution_count": 18,
   "id": "d5759bf9",
   "metadata": {},
   "outputs": [],
   "source": []
  },
  {
   "cell_type": "code",
   "execution_count": 21,
   "id": "3c332908",
   "metadata": {},
   "outputs": [],
   "source": []
  },
  {
   "cell_type": "code",
   "execution_count": null,
   "id": "ea830b8f",
   "metadata": {},
   "outputs": [],
   "source": []
  },
  {
   "cell_type": "code",
   "execution_count": null,
   "id": "0501d64c",
   "metadata": {},
   "outputs": [],
   "source": []
  },
  {
   "cell_type": "code",
   "execution_count": null,
   "id": "d97cda30",
   "metadata": {},
   "outputs": [],
   "source": []
  },
  {
   "cell_type": "code",
   "execution_count": null,
   "id": "5686193c",
   "metadata": {},
   "outputs": [],
   "source": []
  },
  {
   "cell_type": "code",
   "execution_count": null,
   "id": "989e3041",
   "metadata": {},
   "outputs": [],
   "source": []
  },
  {
   "cell_type": "code",
   "execution_count": null,
   "id": "3941a17d",
   "metadata": {},
   "outputs": [],
   "source": []
  },
  {
   "cell_type": "code",
   "execution_count": null,
   "id": "bb355472",
   "metadata": {},
   "outputs": [],
   "source": []
  },
  {
   "cell_type": "code",
   "execution_count": null,
   "id": "c21f53f9",
   "metadata": {},
   "outputs": [],
   "source": []
  },
  {
   "cell_type": "code",
   "execution_count": null,
   "id": "0e833ba0",
   "metadata": {},
   "outputs": [],
   "source": []
  },
  {
   "cell_type": "code",
   "execution_count": null,
   "id": "0db80b2f",
   "metadata": {},
   "outputs": [],
   "source": []
  },
  {
   "cell_type": "code",
   "execution_count": null,
   "id": "b8d622fb",
   "metadata": {},
   "outputs": [],
   "source": []
  },
  {
   "cell_type": "code",
   "execution_count": null,
   "id": "d88b6f63",
   "metadata": {},
   "outputs": [],
   "source": []
  },
  {
   "cell_type": "code",
   "execution_count": null,
   "id": "dcdc7961",
   "metadata": {},
   "outputs": [],
   "source": []
  }
 ],
 "metadata": {
  "kernelspec": {
   "display_name": "Python 3 (ipykernel)",
   "language": "python",
   "name": "python3"
  },
  "language_info": {
   "codemirror_mode": {
    "name": "ipython",
    "version": 3
   },
   "file_extension": ".py",
   "mimetype": "text/x-python",
   "name": "python",
   "nbconvert_exporter": "python",
   "pygments_lexer": "ipython3",
   "version": "3.9.7"
  }
 },
 "nbformat": 4,
 "nbformat_minor": 5
}
